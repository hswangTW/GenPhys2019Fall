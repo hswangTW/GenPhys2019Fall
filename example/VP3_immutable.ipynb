{
 "cells": [
  {
   "cell_type": "markdown",
   "metadata": {},
   "source": [
    "`int` is immutable. Although `y` is assigned to the same value as `x`, the value of `y` will not change together with `x`."
   ]
  },
  {
   "cell_type": "code",
   "execution_count": 1,
   "metadata": {},
   "outputs": [
    {
     "name": "stdout",
     "output_type": "stream",
     "text": [
      "x = 3, y = 1\n"
     ]
    }
   ],
   "source": [
    "x = 1\n",
    "y = x\n",
    "x = x + 2\n",
    "\n",
    "print(f'x = {x}, y = {y}')"
   ]
  },
  {
   "cell_type": "markdown",
   "metadata": {},
   "source": [
    "`list` (and most of the objects) is mutable, so the value of `y` will change together with `x`."
   ]
  },
  {
   "cell_type": "code",
   "execution_count": 2,
   "metadata": {},
   "outputs": [
    {
     "name": "stdout",
     "output_type": "stream",
     "text": [
      "x = [3], y = [3]\n"
     ]
    }
   ],
   "source": [
    "x = [1]     # Note that x is a list now, which is mutable.\n",
    "y = x\n",
    "x[0] = x[0] + 2\n",
    "\n",
    "print(f'x = {x}, y = {y}')"
   ]
  },
  {
   "cell_type": "code",
   "execution_count": null,
   "metadata": {},
   "outputs": [],
   "source": []
  }
 ],
 "metadata": {
  "kernelspec": {
   "display_name": "Python 3",
   "language": "python",
   "name": "python3"
  },
  "language_info": {
   "codemirror_mode": {
    "name": "ipython",
    "version": 3
   },
   "file_extension": ".py",
   "mimetype": "text/x-python",
   "name": "python",
   "nbconvert_exporter": "python",
   "pygments_lexer": "ipython3",
   "version": "3.7.3"
  }
 },
 "nbformat": 4,
 "nbformat_minor": 2
}
